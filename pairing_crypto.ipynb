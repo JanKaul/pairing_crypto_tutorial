{
 "cells": [
  {
   "cell_type": "markdown",
   "metadata": {},
   "source": [
    "# Pairing crypto"
   ]
  },
  {
   "cell_type": "markdown",
   "metadata": {},
   "source": [
    "## Resources:\n",
    "\n",
    "### Software:\n",
    "- Get rust at:\n",
    "[www.rust-lang.org](https://www.rust-lang.org)\n",
    "- Get jupyter notebook directly at [jupyter.org](https://www.jupyter.org) or through anaconda distribution at [anaconda.com](https://www.anaconda.com) \n",
    "- get rust jupyter kernel at [https://github.com/google/evcxr/blob/master/evcxr_jupyter/README.md](https://github.com/google/evcxr/blob/master/evcxr_jupyter/README.md) or run the code normally\n",
    "\n",
    "### Pairings:\n",
    "\n",
    "- Theory on pairings\n",
    "[Dan Boneh Talk - Pairings in Cryptography](https://www.youtube.com/watch?v=8WDOpzxpnTE)\n",
    "\n",
    "- Rust pairing library\n",
    "[pairing](https://crates.io/crates/pairing)\n",
    "\n",
    "- Rust threshold signatures with pairings\n",
    "[threshold_crypto](https://crates.io/crates/threshold_crypto)"
   ]
  },
  {
   "cell_type": "markdown",
   "metadata": {},
   "source": [
    "# Preliminaries\n",
    "\n",
    "## Group\n",
    "\n",
    "Group:\n",
    "\n",
    "$$\\text{Set + Operation}$$\n",
    "\n",
    "for example:\n",
    "\n",
    "(Integers + Addition), (Integers + Multiplication), (Elliptic curve points, point addition)\n",
    "\n",
    "## Modular arithmetic\n",
    "\n",
    "![11hrclock](img/11hrclock.png)\n",
    "\n",
    "$$9 + 8 = 6 \\ \\text{in}\\ \\mathbb{Z}_{11}$$"
   ]
  },
  {
   "cell_type": "markdown",
   "metadata": {},
   "source": [
    "## Elliptic curves\n",
    "\n",
    "[More detailed information](https://www.youtube.com/watch?v=mFVKuFZ29Fc&list=PLN9KZDpNfsHMd7d7PX87JGesGY_Qzyb3V&index=2)\n",
    "\n",
    "### Elliptic curves\n",
    "\n",
    "<img src=\"img/elliptic_curve_over_finite_field.png\" width=\"480\">\n",
    "\n",
    "Elliptic curve:\n",
    "\n",
    "$$ y^2 = x^3 + ax + b$$\n",
    "\n",
    "Elliptic curve point:\n",
    "\n",
    "$$g = (x,y)$$\n",
    "\n",
    "### Point addition\n",
    "\n",
    "- take secant of p and q\n",
    "- invert intersection with elliptic curve\n",
    "\n",
    "<img src=\"img/point_addition.png\" width=\"720\">\n",
    "\n",
    "$$ p + q = r$$\n",
    "\n",
    "### Point doubling\n",
    "\n",
    "- take tangent at point p\n",
    "- invert intersection with elliptic curve\n",
    "\n",
    "<img src=\"img/point_doubling.png\" width=\"720\">\n",
    "\n",
    "$$p + p = r$$\n",
    "\n",
    "### Exponentiation\n",
    "\n",
    "- exponentiation means multiple applications of the group operation\n",
    "\n",
    "$$g^a \\rightarrow g + g\\ ...\\ \\text{a-times}$$\n",
    "\n",
    "- not to be confused with exponentiation for integers, which is the same only if group operation is multiplication"
   ]
  },
  {
   "cell_type": "markdown",
   "metadata": {},
   "source": [
    "# Pairings\n",
    "\n",
    "## Symmetric pairings\n",
    "\n",
    "<img src=\"img/pairing1.png\" width=\"480\">\n",
    "\n",
    "Definition: A pairing is a map $e:G\\times G \\rightarrow G_T$ which is:\n",
    "\n",
    "1. Bilinear: \n",
    "\n",
    "$$e(g^a,g^b) = e(g,g)^{ab}$$\n",
    "\n",
    "1. Polynomialtime computable and non-degenerate\n",
    "\n",
    "## Asymmetric pairings\n",
    "\n",
    "Definition: A pairing is a map $e:G_1\\times G_2 \\rightarrow G_T$ which is:\n",
    "\n",
    "1. Bilinear: \n",
    "\n",
    "$$e(g_1^a,g_2^b) = e(g_1,g_2)^{ab}$$\n",
    "\n",
    "1. Polynomialtime computable and non-degenerate"
   ]
  },
  {
   "cell_type": "code",
   "execution_count": 2,
   "metadata": {},
   "outputs": [],
   "source": [
    ":dep rand = \"0.4.6\"\n",
    ":dep bn = \"0.4.3\"\n",
    ":dep sha2 = \"0.8.0\""
   ]
  },
  {
   "cell_type": "code",
   "execution_count": 3,
   "metadata": {},
   "outputs": [],
   "source": [
    "extern crate rand;\n",
    "extern crate bn;\n",
    "extern crate sha2;\n",
    "\n",
    "use bn::{Group, Fr, G1, G2, pairing};\n",
    "\n",
    "use sha2::{Sha512, Digest};\n",
    "\n",
    "let mut rng = rand::thread_rng();"
   ]
  },
  {
   "cell_type": "code",
   "execution_count": 4,
   "metadata": {},
   "outputs": [
    {
     "data": {
      "text/plain": [
       "true"
      ]
     },
     "execution_count": 4,
     "metadata": {},
     "output_type": "execute_result"
    }
   ],
   "source": [
    "let a = Fr::random(&mut rng);\n",
    "\n",
    "let b = Fr::random(&mut rng);\n",
    "\n",
    "(pairing(G1::one()*a,G2::one()*b) == pairing(G1::one(),G2::one()).pow(a*b))"
   ]
  },
  {
   "cell_type": "markdown",
   "metadata": {},
   "source": [
    "# Boneh-Lynn-Shacham signature scheme\n",
    "\n",
    "- private key $p$ is random integer from $\\mathbb{Z}_r$\n",
    "\n",
    "$$ p \\leftarrow \\mathbb{Z}_r$$\n",
    "\n",
    "- public key $P$ is $G_1$ curve point\n",
    "\n",
    "$$ P = g_1^p$$\n",
    "\n",
    "- hash message to $G_2$ curve point, [secure way](https://medium.com/cryptoadvance/bls-signatures-better-than-schnorr-5a7fe30ea716)\n",
    "\n",
    "$$ H(m) \\in G_2$$\n",
    "\n",
    "- signature\n",
    "\n",
    "$$S = H(m)^p$$\n",
    "\n",
    "- verify\n",
    "\n",
    "$$e(g_1,S) \\overset{?}{=} e(P,H(m))$$\n",
    "\n",
    "- is equal to\n",
    "$$e(g_1,H(m)^p) \\overset{?}{=} e(g_1^p,H(m))$$"
   ]
  },
  {
   "cell_type": "code",
   "execution_count": 5,
   "metadata": {},
   "outputs": [
    {
     "data": {
      "text/plain": [
       "true"
      ]
     },
     "execution_count": 5,
     "metadata": {},
     "output_type": "execute_result"
    }
   ],
   "source": [
    "//create random private key\n",
    "let p = Fr::random(&mut rng);\n",
    "\n",
    "//create corresponding public key\n",
    "let P = G1::one()*p;\n",
    "\n",
    "//hash message to G2 curve point, this is insecure version, see link in description for secure version\n",
    "let mut temp: [u8;64] = [0u8;64];\n",
    "let mut hasher = Sha512::new();\n",
    "hasher.input(\"message\".as_bytes());\n",
    "temp.copy_from_slice(hasher.result().as_slice());\n",
    "\n",
    "let H = G2::one()*Fr::interpret(&temp);\n",
    "\n",
    "//create signature from Hash and private key\n",
    "let S = H*p;\n",
    "\n",
    "//check whether signature is valid\n",
    "(pairing(G1::one(),S) == pairing(P,H))"
   ]
  },
  {
   "cell_type": "markdown",
   "metadata": {},
   "source": [
    "# Signature aggregation\n",
    "\n",
    "- private keys $p_1,p_2$ is random integer from $\\mathbb{Z}_r$\n",
    "\n",
    "$$ p_1,p_2 \\leftarrow \\mathbb{Z}_r$$\n",
    "\n",
    "- public keys $P_1,P_2$ are $G_1$ curve points\n",
    "\n",
    "$$ P_1 = g_1^{p_1}, \\qquad P_2 = g_1^{p_2}$$\n",
    "\n",
    "- hash messages $m_1,m_2$ to $G_2$ curve points, [secure way](https://medium.com/cryptoadvance/bls-signatures-better-than-schnorr-5a7fe30ea716)\n",
    "\n",
    "$$ H(m_1),H(m_2) \\in G_2$$\n",
    "\n",
    "- signatures\n",
    "\n",
    "$$S_1 = H(m_1)^{p_1}, \\qquad S_2 = H(m_2)^{p_2}$$\n",
    "\n",
    "- aggregate signature\n",
    "\n",
    "$$ S = S_1 + S_2$$\n",
    "\n",
    "- verify\n",
    "\n",
    "$$e(g_1,S) \\overset{?}{=} e(P_1,H(m_1)) e(P_2,H(m_2))$$\n",
    "\n",
    "- is equal to\n",
    "$$e(g_1,H(m_1)^{p_1} + H(m_2)^{p_2}) = e(g_1,H(m_1)^{p_1}) e(g_1, H(m_2)^{p_2}) \\overset{?}{=} e(g_1^{p_1},H(m_1))e(g_1^{p_2},H(m_2))$$"
   ]
  },
  {
   "cell_type": "code",
   "execution_count": 6,
   "metadata": {},
   "outputs": [
    {
     "data": {
      "text/plain": [
       "true"
      ]
     },
     "execution_count": 6,
     "metadata": {},
     "output_type": "execute_result"
    }
   ],
   "source": [
    "//create random private keys\n",
    "let p1 = Fr::random(&mut rng);\n",
    "let p2 = Fr::random(&mut rng);\n",
    "\n",
    "//create corresponding public keys\n",
    "let P1 = G1::one()*p1;\n",
    "let P2 = G1::one()*p2;\n",
    "\n",
    "//hash messages to G2 curve points, this is insecure version, see link in description for secure version\n",
    "let mut temp: [u8;64] = [0u8;64];\n",
    "let mut hasher = Sha512::new();\n",
    "hasher.input(\"message1\".as_bytes());\n",
    "temp.copy_from_slice(hasher.result().as_slice());\n",
    "\n",
    "let H1 = G2::one()*Fr::interpret(&temp);\n",
    "\n",
    "let mut hasher = Sha512::new();\n",
    "hasher.input(\"message2\".as_bytes());\n",
    "temp.copy_from_slice(hasher.result().as_slice());\n",
    "\n",
    "let H2 = G2::one()*Fr::interpret(&temp);\n",
    "\n",
    "//create signature from Hashes and private keys\n",
    "let S1 = H1*p1;\n",
    "let S2 = H2*p2;\n",
    "\n",
    "//aggregate signatures\n",
    "let S = S1 + S2;\n",
    "\n",
    "//check whether signature is valid\n",
    "(pairing(G1::one(),S) == pairing(P1,H1)*pairing(P2,H2))"
   ]
  },
  {
   "cell_type": "code",
   "execution_count": null,
   "metadata": {},
   "outputs": [],
   "source": []
  }
 ],
 "metadata": {
  "kernelspec": {
   "display_name": "Rust",
   "language": "rust",
   "name": "rust"
  },
  "language_info": {
   "codemirror_mode": "rust",
   "file_extension": ".rs",
   "mimetype": "text/rust",
   "name": "Rust",
   "pygment_lexer": "rust",
   "version": ""
  }
 },
 "nbformat": 4,
 "nbformat_minor": 2
}
